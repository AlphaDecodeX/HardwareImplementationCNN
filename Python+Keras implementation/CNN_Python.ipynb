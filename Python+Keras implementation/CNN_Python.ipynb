{
  "nbformat": 4,
  "nbformat_minor": 0,
  "metadata": {
    "colab": {
      "name": "CNN_Week_4.ipynb",
      "provenance": [],
      "collapsed_sections": []
    },
    "kernelspec": {
      "name": "python3",
      "display_name": "Python 3"
    }
  },
  "cells": [
    {
      "cell_type": "code",
      "metadata": {
        "id": "xhnXOHAbel6g",
        "colab_type": "code",
        "outputId": "b437dc51-1ecf-4a07-eb20-da275bdc1619",
        "colab": {
          "base_uri": "https://localhost:8080/",
          "height": 79
        }
      },
      "source": [
        "#importing Necessary libraries\n",
        "import warnings \n",
        "warnings.filterwarnings(\"ignore\")\n",
        "from __future__ import absolute_import, division, print_function, unicode_literals\n",
        "\n",
        "import tensorflow as tf\n",
        "\n",
        "from tensorflow.keras import datasets, layers, models\n",
        "import matplotlib.pyplot as plt\n",
        "from keras import backend as K\n"
      ],
      "execution_count": 0,
      "outputs": [
        {
          "output_type": "display_data",
          "data": {
            "text/html": [
              "<p style=\"color: red;\">\n",
              "The default version of TensorFlow in Colab will soon switch to TensorFlow 2.x.<br>\n",
              "We recommend you <a href=\"https://www.tensorflow.org/guide/migrate\" target=\"_blank\">upgrade</a> now \n",
              "or ensure your notebook will continue to use TensorFlow 1.x via the <code>%tensorflow_version 1.x</code> magic:\n",
              "<a href=\"https://colab.research.google.com/notebooks/tensorflow_version.ipynb\" target=\"_blank\">more info</a>.</p>\n"
            ],
            "text/plain": [
              "<IPython.core.display.HTML object>"
            ]
          },
          "metadata": {
            "tags": []
          }
        },
        {
          "output_type": "stream",
          "text": [
            "Using TensorFlow backend.\n"
          ],
          "name": "stderr"
        }
      ]
    },
    {
      "cell_type": "code",
      "metadata": {
        "id": "ijQQ_mK91wMe",
        "colab_type": "code",
        "colab": {}
      },
      "source": [
        "# Relu Used For Our CNN Implementation in Verilog, For more info go to Keras Relu with alpha and threshold....documentation \n",
        "def relu_advanced(x):\n",
        "    return K.relu(x, max_value=25,alpha = 1.0, threshold= 2.0)"
      ],
      "execution_count": 0,
      "outputs": []
    },
    {
      "cell_type": "code",
      "metadata": {
        "id": "7r6ZQrjCerUx",
        "colab_type": "code",
        "outputId": "8752b96f-7c82-40b4-bc61-264f1c754868",
        "colab": {
          "base_uri": "https://localhost:8080/",
          "height": 50
        }
      },
      "source": [
        "(train_images, train_labels), (test_images, test_labels) = datasets.cifar10.load_data()  # Loading Dataset"
      ],
      "execution_count": 0,
      "outputs": [
        {
          "output_type": "stream",
          "text": [
            "Downloading data from https://www.cs.toronto.edu/~kriz/cifar-10-python.tar.gz\n",
            "170500096/170498071 [==============================] - 68s 0us/step\n"
          ],
          "name": "stdout"
        }
      ]
    },
    {
      "cell_type": "code",
      "metadata": {
        "id": "y0OiPAp-es0f",
        "colab_type": "code",
        "outputId": "5734c3bf-b72b-44b7-b8c2-75f52b3cea55",
        "colab": {
          "base_uri": "https://localhost:8080/",
          "height": 34
        }
      },
      "source": [
        "type(train_images),train_images.ndim,train_images.shape,train_labels.shape  #Checking the type of the ImageArray"
      ],
      "execution_count": 0,
      "outputs": [
        {
          "output_type": "execute_result",
          "data": {
            "text/plain": [
              "(numpy.ndarray, 4, (50000, 32, 32, 3), (50000, 1))"
            ]
          },
          "metadata": {
            "tags": []
          },
          "execution_count": 4
        }
      ]
    },
    {
      "cell_type": "code",
      "metadata": {
        "id": "N9l9JjR35-Xb",
        "colab_type": "code",
        "colab": {}
      },
      "source": [
        ""
      ],
      "execution_count": 0,
      "outputs": []
    },
    {
      "cell_type": "code",
      "metadata": {
        "id": "8XenZ5fPeuXb",
        "colab_type": "code",
        "colab": {}
      },
      "source": [
        "#Converting Images To one channel Gray Scale.....\n",
        "\n",
        "train_images = tf.image.rgb_to_grayscale(\n",
        "    train_images,\n",
        "    name=None\n",
        ")\n",
        "test_images = tf.image.rgb_to_grayscale(\n",
        "    test_images,\n",
        "    name=None\n",
        ")"
      ],
      "execution_count": 0,
      "outputs": []
    },
    {
      "cell_type": "code",
      "metadata": {
        "id": "FZTIm9U4evZB",
        "colab_type": "code",
        "outputId": "22701b5b-f555-4518-9bdf-7b178d10c88a",
        "colab": {
          "base_uri": "https://localhost:8080/",
          "height": 34
        }
      },
      "source": [
        "type(train_images)   # Checking the Type of the Images array"
      ],
      "execution_count": 0,
      "outputs": [
        {
          "output_type": "execute_result",
          "data": {
            "text/plain": [
              "tensorflow.python.framework.ops.Tensor"
            ]
          },
          "metadata": {
            "tags": []
          },
          "execution_count": 6
        }
      ]
    },
    {
      "cell_type": "code",
      "metadata": {
        "id": "8jbSDCnrewvB",
        "colab_type": "code",
        "colab": {}
      },
      "source": [
        "train_images = tf.Session().run(train_images)\n",
        "test_images = tf.Session().run(test_images)   #Converting Image Array Tensors to Numpy nDim Array"
      ],
      "execution_count": 0,
      "outputs": []
    },
    {
      "cell_type": "code",
      "metadata": {
        "id": "PNJXtU19eyRd",
        "colab_type": "code",
        "outputId": "815ccab2-691b-4082-dd41-418fa09fa3e4",
        "colab": {
          "base_uri": "https://localhost:8080/",
          "height": 34
        }
      },
      "source": [
        "train_images.shape,test_images.shape  # Printing the shape of the train and test images"
      ],
      "execution_count": 0,
      "outputs": [
        {
          "output_type": "execute_result",
          "data": {
            "text/plain": [
              "((50000, 32, 32, 1), (10000, 32, 32, 1))"
            ]
          },
          "metadata": {
            "tags": []
          },
          "execution_count": 8
        }
      ]
    },
    {
      "cell_type": "code",
      "metadata": {
        "id": "9YueEYGtez4E",
        "colab_type": "code",
        "colab": {}
      },
      "source": [
        "train_images_show = train_images[:, :, :,0]  # Image array extraction for Showing in next Cell\n",
        "test_images_show = test_images[:, :, :,0]"
      ],
      "execution_count": 0,
      "outputs": []
    },
    {
      "cell_type": "code",
      "metadata": {
        "id": "I8YJccyWe08i",
        "colab_type": "code",
        "outputId": "a14fbea7-c520-4d1b-a96c-4a4b9620244c",
        "colab": {
          "base_uri": "https://localhost:8080/",
          "height": 34
        }
      },
      "source": [
        "train_images.shape,test_images.shape,train_images_show.shape,test_images_show.shape  # All Dataset Divison Images Array and labels Array Shape"
      ],
      "execution_count": 0,
      "outputs": [
        {
          "output_type": "execute_result",
          "data": {
            "text/plain": [
              "((50000, 32, 32, 1), (10000, 32, 32, 1), (50000, 32, 32), (10000, 32, 32))"
            ]
          },
          "metadata": {
            "tags": []
          },
          "execution_count": 10
        }
      ]
    },
    {
      "cell_type": "code",
      "metadata": {
        "id": "ltTJveVge2DG",
        "colab_type": "code",
        "outputId": "5046c8de-d4e6-4cbd-a28c-e6a4d961cb79",
        "colab": {
          "base_uri": "https://localhost:8080/",
          "height": 589
        }
      },
      "source": [
        "class_names = ['airplane', 'automobile', 'bird', 'cat', 'deer',\n",
        "               'dog', 'frog', 'horse', 'ship', 'truck']\n",
        "\n",
        "plt.figure(figsize=(10,10))\n",
        "for i in range(25):\n",
        "    plt.subplot(5,5,i+1)\n",
        "    plt.xticks([])\n",
        "    plt.yticks([])\n",
        "    plt.grid(False)\n",
        "    plt.imshow(train_images_show[i], cmap=plt.cm.binary)     #Showing the Extracted Images with Labels stored in class_names Array.....\n",
        "    # The CIFAR labels happen to be arrays, \n",
        "    # which is why you need the extra index\n",
        "    plt.xlabel(class_names[train_labels[i][0]])            \n",
        "plt.show()"
      ],
      "execution_count": 0,
      "outputs": [
        {
          "output_type": "display_data",
          "data": {
            "image/png": "[encoded data removed]",
            "text/plain": [
              "<Figure size 720x720 with 25 Axes>"
            ]
          },
          "metadata": {
            "tags": []
          }
        }
      ]
    },
    {
      "cell_type": "code",
      "metadata": {
        "id": "61oFNXNMe3WB",
        "colab_type": "code",
        "colab": {}
      },
      "source": [
        "model = models.Sequential()\n",
        "model.add(layers.Conv2D(5, (3, 3), activation = relu_advanced, input_shape=(32, 32, 1)))    # Adding A layer with 5 filters and With Actiation relu_advanced defined by us .... above\n",
        "model.add(layers.MaxPooling2D((2,2)))\n",
        "# model.add(layers.Conv2D(1, (3, 3), activation = relu_advanced))                     #  Examples of further addition of convolutional Layers\n",
        "#model.add(layers.Conv2D(1, (3, 3), activation='relu', input_shape=(32, 32, 1)))      \n",
        "# model.add(layers.MaxPooling2D((2,2)))\n",
        "#model.add(layers.Conv2D(64, (3, 3),padding = 'same', activation='relu'))\n",
        "#model.add(layers.MaxPooling2D((2,2)))\n",
        "#model.add(layers.Conv2D(64, (3, 3), activation='relu'))\n",
        "#model.add(layers.MaxPooling2D((2,2)))\n",
        "#model.add(layers.Conv2D(64, (3, 3), activation='relu'))\n",
        "#model.add(layers.MaxPooling2D((2,2)))\n",
        "#model.add(layers.Conv2D(128, (3, 3), activation='relu'))\n",
        "#model.add(layers.MaxPooling2D((2,2)))\n",
        "#model.add(layers.Conv2D(128, (3, 3), activation='relu'))\n",
        "#model.add(layers.MaxPooling2D((2,2)))"
      ],
      "execution_count": 0,
      "outputs": []
    },
    {
      "cell_type": "code",
      "metadata": {
        "id": "Vmd1IhNsfESm",
        "colab_type": "code",
        "outputId": "a0f7d6cc-70be-4abd-fff5-e3ebe84c9fc9",
        "colab": {
          "base_uri": "https://localhost:8080/",
          "height": 218
        }
      },
      "source": [
        "model.summary()   #Printing Dimensions and Layers of The Added Layers....."
      ],
      "execution_count": 0,
      "outputs": [
        {
          "output_type": "stream",
          "text": [
            "Model: \"sequential_3\"\n",
            "_________________________________________________________________\n",
            "Layer (type)                 Output Shape              Param #   \n",
            "=================================================================\n",
            "conv2d_3 (Conv2D)            (None, 30, 30, 5)         50        \n",
            "_________________________________________________________________\n",
            "max_pooling2d_3 (MaxPooling2 (None, 15, 15, 5)         0         \n",
            "=================================================================\n",
            "Total params: 50\n",
            "Trainable params: 50\n",
            "Non-trainable params: 0\n",
            "_________________________________________________________________\n"
          ],
          "name": "stdout"
        }
      ]
    },
    {
      "cell_type": "code",
      "metadata": {
        "id": "OpKSjkeDfFmV",
        "colab_type": "code",
        "colab": {}
      },
      "source": [
        "model.add(layers.Flatten())     # Producing Fully Connected Neural Network With Activation Function Applied to below Dense Layer(Hidden Layer).....\n",
        "model.add(layers.Dense(100,activation = relu_advanced))  # Here also Activation Function is Our Defined Function .....\n",
        "model.add(layers.Dense(10, activation='softmax'))"
      ],
      "execution_count": 0,
      "outputs": []
    },
    {
      "cell_type": "code",
      "metadata": {
        "id": "kkXPUrwufGod",
        "colab_type": "code",
        "outputId": "385f878a-cf0c-40f2-ced3-6fa8740d6861",
        "colab": {
          "base_uri": "https://localhost:8080/",
          "height": 319
        }
      },
      "source": [
        "model.summary()"
      ],
      "execution_count": 0,
      "outputs": [
        {
          "output_type": "stream",
          "text": [
            "Model: \"sequential_3\"\n",
            "_________________________________________________________________\n",
            "Layer (type)                 Output Shape              Param #   \n",
            "=================================================================\n",
            "conv2d_3 (Conv2D)            (None, 30, 30, 5)         50        \n",
            "_________________________________________________________________\n",
            "max_pooling2d_3 (MaxPooling2 (None, 15, 15, 5)         0         \n",
            "_________________________________________________________________\n",
            "flatten_3 (Flatten)          (None, 1125)              0         \n",
            "_________________________________________________________________\n",
            "dense_3 (Dense)              (None, 100)               112600    \n",
            "_________________________________________________________________\n",
            "dense_4 (Dense)              (None, 10)                1010      \n",
            "=================================================================\n",
            "Total params: 113,660\n",
            "Trainable params: 113,660\n",
            "Non-trainable params: 0\n",
            "_________________________________________________________________\n"
          ],
          "name": "stdout"
        }
      ]
    },
    {
      "cell_type": "code",
      "metadata": {
        "id": "moRxyHcofHrH",
        "colab_type": "code",
        "outputId": "c3d29bfd-f9d5-4ec9-f2cf-5e0d5bf1b3ce",
        "colab": {
          "base_uri": "https://localhost:8080/",
          "height": 202
        }
      },
      "source": [
        "model.compile(optimizer='adam',\n",
        "              loss='sparse_categorical_crossentropy',\n",
        "              metrics=['accuracy'])     # Optimizing the Model Parameters by using 'adam' Optimizer and doing all in iterations...\n",
        "\n",
        "history = model.fit(train_images, train_labels, epochs = 5,  # A full Feed Forward + Back Propagation is collectiiely called as one epoch ..... Here 5 Epochs are taken .. 10 Are recommended.                    validation_data=(test_images, test_labels))"
      ],
      "execution_count": 0,
      "outputs": [
        {
          "output_type": "stream",
          "text": [
            "Train on 50000 samples, validate on 10000 samples\n",
            "Epoch 1/5\n",
            "50000/50000 [==============================] - 28s 569us/sample - loss: 4.7955 - acc: 0.2706 - val_loss: 2.0279 - val_acc: 0.3546\n",
            "Epoch 2/5\n",
            "50000/50000 [==============================] - 29s 586us/sample - loss: 2.0235 - acc: 0.3492 - val_loss: 1.8559 - val_acc: 0.3777\n",
            "Epoch 3/5\n",
            "50000/50000 [==============================] - 29s 576us/sample - loss: 1.8569 - acc: 0.3768 - val_loss: 1.9432 - val_acc: 0.3831\n",
            "Epoch 4/5\n",
            "50000/50000 [==============================] - 29s 583us/sample - loss: 1.7775 - acc: 0.3990 - val_loss: 1.8946 - val_acc: 0.3882\n",
            "Epoch 5/5\n",
            "50000/50000 [==============================] - 29s 577us/sample - loss: 1.7514 - acc: 0.4100 - val_loss: 1.7306 - val_acc: 0.4114\n"
          ],
          "name": "stdout"
        }
      ]
    },
    {
      "cell_type": "code",
      "metadata": {
        "id": "X2phq9RBfIvr",
        "colab_type": "code",
        "outputId": "c88cbce1-dd4a-493c-a271-3857fa9b6875",
        "colab": {
          "base_uri": "https://localhost:8080/",
          "height": 296
        }
      },
      "source": [
        "# Accuracy --> It is the Accuracy predicted using Train Dataset while optimizing the network\n",
        "# Validation Accuracy --> It is the Accuracy predicted using Test Dataset while optimizing the network\n",
        "\n",
        "# Accuracy --> High And Validation Accuracy --> High means Model is overfitting in Train Data Only. So, Validation Accuracy matters alongwith the Accuracy of the Model.\n",
        "\n",
        "\n",
        "plt.plot(history.history['acc'], label='acc')\n",
        "plt.plot(history.history['val_acc'], label = 'val_acc')\n",
        "plt.xlabel('Epoch')\n",
        "plt.ylabel('Accuracy')\n",
        "plt.legend(loc='lower right')\n",
        "test_loss, test_acc = model.evaluate(test_images,  test_labels, verbose=2)    #Plotting Accuracy and Validation Accuracy"
      ],
      "execution_count": 0,
      "outputs": [
        {
          "output_type": "stream",
          "text": [
            "10000/10000 - 2s - loss: 1.7306 - acc: 0.4114\n"
          ],
          "name": "stdout"
        },
        {
          "output_type": "display_data",
          "data": {
            "image/png": "[encoded data removed]",
            "text/plain": [
              "<Figure size 432x288 with 1 Axes>"
            ]
          },
          "metadata": {
            "tags": []
          }
        }
      ]
    },
    {
      "cell_type": "code",
      "metadata": {
        "id": "8pkp8cpSfKge",
        "colab_type": "code",
        "outputId": "d190e145-7cba-40c4-e8f2-06a3ec49c5b3",
        "colab": {
          "base_uri": "https://localhost:8080/",
          "height": 34
        }
      },
      "source": [
        "# Extracting Model Parameters Shapes using model.get_weights() method.\n",
        "\n",
        "\n",
        "((model.get_weights())[0]).shape,((model.get_weights())[1]).shape,((model.get_weights())[2]).shape ,((model.get_weights())[3]).shape ,((model.get_weights())[4]).shape,((model.get_weights())[5]).shape"
      ],
      "execution_count": 0,
      "outputs": [
        {
          "output_type": "execute_result",
          "data": {
            "text/plain": [
              "((3, 3, 1, 5), (5,), (1125, 100), (100,), (100, 10), (10,))"
            ]
          },
          "metadata": {
            "tags": []
          },
          "execution_count": 93
        }
      ]
    },
    {
      "cell_type": "code",
      "metadata": {
        "id": "cahsVvHPfLs_",
        "colab_type": "code",
        "colab": {}
      },
      "source": [
        "#Extracting Filter with Its Biases\n",
        "\n",
        "filters = model.get_weights()[0]\n",
        "filters_bias = model.get_weights()[1]"
      ],
      "execution_count": 0,
      "outputs": []
    },
    {
      "cell_type": "code",
      "metadata": {
        "id": "7C3YAEnDfM1S",
        "colab_type": "code",
        "outputId": "84eda51a-d4f0-44d0-8a08-29306635dce7",
        "colab": {
          "base_uri": "https://localhost:8080/",
          "height": 34
        }
      },
      "source": [
        "filters.shape  # Filters shape"
      ],
      "execution_count": 0,
      "outputs": [
        {
          "output_type": "execute_result",
          "data": {
            "text/plain": [
              "(3, 3, 1, 5)"
            ]
          },
          "metadata": {
            "tags": []
          },
          "execution_count": 95
        }
      ]
    },
    {
      "cell_type": "code",
      "metadata": {
        "id": "N9xqeCfvfOA_",
        "colab_type": "code",
        "outputId": "24060dba-45f7-49aa-ae4c-16bdac965b64",
        "colab": {
          "base_uri": "https://localhost:8080/",
          "height": 941
        }
      },
      "source": [
        "# Printing Filters applied in Convolution.\n",
        "\n",
        "for k in range(5):  # No. of Filters .....\n",
        "    print('Filter'+str(k+1),end=\"\\n--------------------\\n\")\n",
        "    for i in range(3):              # All Filters\n",
        "        for j in range(3):\n",
        "            print(filters[i][j][0][k])"
      ],
      "execution_count": 0,
      "outputs": [
        {
          "output_type": "stream",
          "text": [
            "Filter1\n",
            "--------------------\n",
            "0.23247015\n",
            "-0.2694154\n",
            "-0.12856631\n",
            "0.17169526\n",
            "0.20795776\n",
            "-0.066676304\n",
            "0.37989104\n",
            "0.26844755\n",
            "0.36051545\n",
            "Filter2\n",
            "--------------------\n",
            "0.20162648\n",
            "-0.18462929\n",
            "-0.038839996\n",
            "-0.25955686\n",
            "0.063678466\n",
            "-0.08680965\n",
            "0.019809442\n",
            "0.119738884\n",
            "0.109600075\n",
            "Filter3\n",
            "--------------------\n",
            "-0.079022385\n",
            "0.062596895\n",
            "-0.012765709\n",
            "0.0028210396\n",
            "-0.22025919\n",
            "0.053304583\n",
            "0.07082079\n",
            "-0.12596373\n",
            "0.2532152\n",
            "Filter4\n",
            "--------------------\n",
            "-0.08135563\n",
            "0.041885447\n",
            "0.017042551\n",
            "-0.13672455\n",
            "-0.008679931\n",
            "0.15777786\n",
            "-0.061473276\n",
            "-0.15485725\n",
            "0.15073584\n",
            "Filter5\n",
            "--------------------\n",
            "-0.11458151\n",
            "-0.09784762\n",
            "0.25736699\n",
            "0.0055700513\n",
            "-0.041395552\n",
            "-0.03801865\n",
            "0.18260169\n",
            "0.08445169\n",
            "-0.25287417\n"
          ],
          "name": "stdout"
        }
      ]
    },
    {
      "cell_type": "code",
      "metadata": {
        "id": "g2Pme-uMfO_j",
        "colab_type": "code",
        "outputId": "2972db17-b0c5-421b-ab58-6803de5f887d",
        "colab": {
          "base_uri": "https://localhost:8080/",
          "height": 67
        }
      },
      "source": [
        "print(\"Filter Bias -----------\")\n",
        "filters_bias"
      ],
      "execution_count": 0,
      "outputs": [
        {
          "output_type": "stream",
          "text": [
            "Filter Bias -----------\n"
          ],
          "name": "stdout"
        },
        {
          "output_type": "execute_result",
          "data": {
            "text/plain": [
              "array([ 0.3773295 ,  0.19491406, -0.37575278,  0.1181977 , -0.16844454],\n",
              "      dtype=float32)"
            ]
          },
          "metadata": {
            "tags": []
          },
          "execution_count": 97
        }
      ]
    },
    {
      "cell_type": "code",
      "metadata": {
        "id": "5Em7TyZIfQ__",
        "colab_type": "code",
        "colab": {}
      },
      "source": [
        "# Extracting Weights and Biases of Trained CNN model....\n",
        "\n",
        "W1 = model.get_weights()[2]\n",
        "B1 = model.get_weights()[3]\n",
        "W2 = model.get_weights()[4]\n",
        "B2 = model.get_weights()[5]"
      ],
      "execution_count": 0,
      "outputs": []
    },
    {
      "cell_type": "code",
      "metadata": {
        "id": "7X4F76JifSb5",
        "colab_type": "code",
        "colab": {}
      },
      "source": [
        "# Writing Flattend W1 Parameters into Txt File ......\n",
        "\n",
        "f = open(\"W1.txt\",'w')\n",
        "for i in range(100):\n",
        "    for j in range(1125):\n",
        "        f.write(str(W1[j][i]))\n",
        "        f.write(\"\\n\")\n",
        "        #print(W1[i][j])\n",
        "f.close()"
      ],
      "execution_count": 0,
      "outputs": []
    },
    {
      "cell_type": "code",
      "metadata": {
        "id": "U8ri9t4vfThg",
        "colab_type": "code",
        "outputId": "fd0bd224-9e48-4e1c-9017-a094db425b6a",
        "colab": {
          "base_uri": "https://localhost:8080/",
          "height": 34
        }
      },
      "source": [
        "# Shape of Biases of 1st Layer .....\n",
        "B1.shape"
      ],
      "execution_count": 0,
      "outputs": [
        {
          "output_type": "execute_result",
          "data": {
            "text/plain": [
              "(100,)"
            ]
          },
          "metadata": {
            "tags": []
          },
          "execution_count": 102
        }
      ]
    },
    {
      "cell_type": "code",
      "metadata": {
        "id": "ddCxzkYWfVFM",
        "colab_type": "code",
        "colab": {}
      },
      "source": [
        "# Writing Flattend B1 Parameters into Txt File ......\n",
        "\n",
        "f = open(\"B1.txt\",'w')\n",
        "for i in range(100):\n",
        "    f.write(str(B1[i]))\n",
        "    f.write(\"\\n\")\n",
        "    #print(B1[i])\n",
        "\n",
        "f.close()"
      ],
      "execution_count": 0,
      "outputs": []
    },
    {
      "cell_type": "code",
      "metadata": {
        "id": "TWpHYyxyfWH7",
        "colab_type": "code",
        "colab": {}
      },
      "source": [
        "# Writing Flattend W2 Parameters into Txt File ......\n",
        "\n",
        "f = open(\"W2.txt\",'w')\n",
        "for i in range(10):\n",
        "    for j in range(100):\n",
        "        f.write(str(W2[j][i]))\n",
        "        f.write(\"\\n\")\n",
        "        #print(W1[i][j])\n",
        "f.close()"
      ],
      "execution_count": 0,
      "outputs": []
    },
    {
      "cell_type": "code",
      "metadata": {
        "id": "c9rZl1Efl_ut",
        "colab_type": "code",
        "colab": {}
      },
      "source": [
        "# Writing Flattend B2 Parameters into Txt File ......\n",
        "\n",
        "f = open(\"B2.txt\",'w')\n",
        "for i in range(10):\n",
        "    f.write(str(B2[i]))\n",
        "    f.write(\"\\n\")\n",
        "    #print(B1[i])\n",
        "\n",
        "f.close()"
      ],
      "execution_count": 0,
      "outputs": []
    },
    {
      "cell_type": "code",
      "metadata": {
        "id": "SsxglIKXtiIx",
        "colab_type": "code",
        "outputId": "4ab5d557-8590-4e22-8896-e4c4580906a3",
        "colab": {
          "base_uri": "https://localhost:8080/",
          "height": 229
        }
      },
      "source": [
        "# Writing All Trained_Images in a Txt File..... All Flattened For Coe File Conversion For FPGA Implementation ......\n",
        "f = open('Images.txt','w')\n",
        "for l in range(50000):\n",
        "    for i in range(32):\n",
        "        for j in range(32):\n",
        "            f.write(str(train_images[l][i][j][0]))\n",
        "            f.write(\"\\n\")\n",
        "f.close()"
      ],
      "execution_count": 0,
      "outputs": [
        {
          "output_type": "error",
          "ename": "KeyboardInterrupt",
          "evalue": "ignored",
          "traceback": [
            "\u001b[0;31m---------------------------------------------------------------------------\u001b[0m",
            "\u001b[0;31mKeyboardInterrupt\u001b[0m                         Traceback (most recent call last)",
            "\u001b[0;32m<ipython-input-47-ce3038274ad8>\u001b[0m in \u001b[0;36m<module>\u001b[0;34m()\u001b[0m\n\u001b[1;32m      4\u001b[0m     \u001b[0;32mfor\u001b[0m \u001b[0mi\u001b[0m \u001b[0;32min\u001b[0m \u001b[0mrange\u001b[0m\u001b[0;34m(\u001b[0m\u001b[0;36m32\u001b[0m\u001b[0;34m)\u001b[0m\u001b[0;34m:\u001b[0m\u001b[0;34m\u001b[0m\u001b[0;34m\u001b[0m\u001b[0m\n\u001b[1;32m      5\u001b[0m         \u001b[0;32mfor\u001b[0m \u001b[0mj\u001b[0m \u001b[0;32min\u001b[0m \u001b[0mrange\u001b[0m\u001b[0;34m(\u001b[0m\u001b[0;36m32\u001b[0m\u001b[0;34m)\u001b[0m\u001b[0;34m:\u001b[0m\u001b[0;34m\u001b[0m\u001b[0;34m\u001b[0m\u001b[0m\n\u001b[0;32m----> 6\u001b[0;31m             \u001b[0mf\u001b[0m\u001b[0;34m.\u001b[0m\u001b[0mwrite\u001b[0m\u001b[0;34m(\u001b[0m\u001b[0mstr\u001b[0m\u001b[0;34m(\u001b[0m\u001b[0mtrain_images\u001b[0m\u001b[0;34m[\u001b[0m\u001b[0ml\u001b[0m\u001b[0;34m]\u001b[0m\u001b[0;34m[\u001b[0m\u001b[0mi\u001b[0m\u001b[0;34m]\u001b[0m\u001b[0;34m[\u001b[0m\u001b[0mj\u001b[0m\u001b[0;34m]\u001b[0m\u001b[0;34m[\u001b[0m\u001b[0;36m0\u001b[0m\u001b[0;34m]\u001b[0m\u001b[0;34m)\u001b[0m\u001b[0;34m)\u001b[0m\u001b[0;34m\u001b[0m\u001b[0;34m\u001b[0m\u001b[0m\n\u001b[0m\u001b[1;32m      7\u001b[0m             \u001b[0mf\u001b[0m\u001b[0;34m.\u001b[0m\u001b[0mwrite\u001b[0m\u001b[0;34m(\u001b[0m\u001b[0;34m\"\\n\"\u001b[0m\u001b[0;34m)\u001b[0m\u001b[0;34m\u001b[0m\u001b[0;34m\u001b[0m\u001b[0m\n\u001b[1;32m      8\u001b[0m             \u001b[0;31m# sample.append(train_images[l][i][j][0])\u001b[0m\u001b[0;34m\u001b[0m\u001b[0;34m\u001b[0m\u001b[0;34m\u001b[0m\u001b[0m\n",
            "\u001b[0;31mKeyboardInterrupt\u001b[0m: "
          ]
        }
      ]
    },
    {
      "cell_type": "code",
      "metadata": {
        "id": "Wm6uD8Rm7meU",
        "colab_type": "code",
        "colab": {}
      },
      "source": [
        "# Writing All Trained_Images_Labels in a Txt File..... All Flattened For Coe File Conversion For FPGA Implementation ......\n",
        "\n",
        "\n",
        "f = open(\"Labels.txt\",\"w\")\n",
        "for i in range(50000):\n",
        "    f.write(str(train_labels[i][0]))\n",
        "    f.write(\"\\n\")\n",
        "f.close()"
      ],
      "execution_count": 0,
      "outputs": []
    },
    {
      "cell_type": "code",
      "metadata": {
        "id": "wbesAf0bOcKE",
        "colab_type": "code",
        "colab": {}
      },
      "source": [
        "# Extracting 10 images of Trained_images Dataset with Label as given equals to 9\n",
        "\n",
        "f = open('Images_9.txt','w')\n",
        "count = 0\n",
        "for l in range(50000):\n",
        "    if train_labels[l][0] == 9 and count<10:\n",
        "        for i in range(32):\n",
        "            for j in range(32):\n",
        "                f.write(str(train_images[l][i][j][0]))\n",
        "                f.write(\"\\n\")\n",
        "        count += 1 \n",
        "f.close()"
      ],
      "execution_count": 0,
      "outputs": []
    },
    {
      "cell_type": "code",
      "metadata": {
        "id": "pFV7NWduXcFt",
        "colab_type": "code",
        "colab": {}
      },
      "source": [
        "from tensorflow.keras import backend as K\n",
        "\n",
        "# create a Keras function to get i-th layer\n",
        "get_layer_output = K.function(inputs = model.layers[0].input, outputs = model.layers[0].output)\n",
        "\n",
        "# extract output\n",
        "reshape_image = np.expand_dims(train_images[13],axis=0)   # Extracting Model 0th Layer output for 13 Image in Trained_Images Dataset  (Print model.layers() and note index \n",
        "                                                        #for print output any of the layer i.e. Layers like max pool, convolution, Flatten, Hidden, Output.....etc.)\n",
        "layer_output = get_layer_output(reshape_image)"
      ],
      "execution_count": 0,
      "outputs": []
    },
    {
      "cell_type": "code",
      "metadata": {
        "id": "xkfjSdMHaPJv",
        "colab_type": "code",
        "colab": {}
      },
      "source": [
        "output_filters = layer_output #For First Image Extraction Of Kernal Final Values .....\n",
        "# print(get_layer_output)"
      ],
      "execution_count": 0,
      "outputs": []
    },
    {
      "cell_type": "code",
      "metadata": {
        "id": "C3BRvNR3CDdF",
        "colab_type": "code",
        "outputId": "a93630c7-da15-402f-e7ea-5eaa57bed838",
        "colab": {
          "base_uri": "https://localhost:8080/",
          "height": 34
        }
      },
      "source": [
        "output_filters.shape"
      ],
      "execution_count": 0,
      "outputs": [
        {
          "output_type": "execute_result",
          "data": {
            "text/plain": [
              "(1, 30, 30, 1)"
            ]
          },
          "metadata": {
            "tags": []
          },
          "execution_count": 47
        }
      ]
    },
    {
      "cell_type": "code",
      "metadata": {
        "id": "AZP3cUKOo02H",
        "colab_type": "code",
        "colab": {}
      },
      "source": [
        "# Finding Accuracy\n",
        "f = open(\"Labels.txt\",'w')\n",
        "g = open(\"Incorrect_Labels.txt\",'w')\n",
        "from tensorflow.keras import backend as K\n",
        "# create a Keras function to get i-th layer\n",
        "get_layer_output = K.function(inputs = model.layers[0].input, outputs = model.layers[3].output)\n",
        "correct_images = []\n",
        "# extract output\n",
        "count = 0\n",
        "num = 50000\n",
        "for i in (range(num)):\n",
        "    reshape_image = np.expand_dims(train_images[i],axis=0)\n",
        "    layer_output = get_layer_output(reshape_image)\n",
        "    if np.argmax(layer_output) == train_labels[i]:\n",
        "        correct_images.append(i)\n",
        "        f.write(str(train_labels[i][0]))\n",
        "        f.write(\"\\n\")\n",
        "        count+=1\n",
        "    if np.argmax(layer_output) != train_labels[i]:\n",
        "        # correct_images.append(i)\n",
        "        g.write(str(train_labels[i][0]))\n",
        "        g.write(\"\\n\") \n",
        "accuracy = (count/num)*100\n",
        "f.close()\n",
        "g.close()"
      ],
      "execution_count": 0,
      "outputs": []
    },
    {
      "cell_type": "code",
      "metadata": {
        "id": "cekXqj7JxNsI",
        "colab_type": "code",
        "colab": {}
      },
      "source": [
        ""
      ],
      "execution_count": 0,
      "outputs": []
    },
    {
      "cell_type": "code",
      "metadata": {
        "id": "oul4zEWBwnBf",
        "colab_type": "code",
        "colab": {}
      },
      "source": [
        "# Extracting Intermediate Outputs Of Layers .....\n",
        "from tensorflow.keras import backend as K\n",
        "get_layer_output = K.function(inputs = model.layers[0].input, outputs = model.layers[2].output)\n",
        "\n",
        "reshape_image = np.expand_dims(train_images[0],axis=0)\n",
        "layer_output = get_layer_output(reshape_image)"
      ],
      "execution_count": 0,
      "outputs": []
    },
    {
      "cell_type": "code",
      "metadata": {
        "id": "qxGIej_DCAhi",
        "colab_type": "code",
        "colab": {}
      },
      "source": [
        "f = open(\"Flatten.txt\",\"w\")  #Extracting Max Pooled or Flatten Output for 0th Image from train_images dataset \n",
        "for i in range(1125):\n",
        "    f.write(str(layer_output[:,i][0]))\n",
        "    f.write(\" \")\n",
        "    if((i+1)%15==0):\n",
        "        f.write(\"\\n\")\n",
        "    if((i+1)%225 == 0):\n",
        "        f.write(\"------------------------------------------------------------------------------------------------------\")\n",
        "        f.write(\"\\n\")\n",
        "f.close()"
      ],
      "execution_count": 0,
      "outputs": []
    },
    {
      "cell_type": "code",
      "metadata": {
        "id": "sCLyhSqhwLpS",
        "colab_type": "code",
        "outputId": "f8ec4d7d-3239-4eff-924a-f181cc15f492",
        "colab": {
          "base_uri": "https://localhost:8080/",
          "height": 101
        }
      },
      "source": [
        "model.layers"
      ],
      "execution_count": 0,
      "outputs": [
        {
          "output_type": "execute_result",
          "data": {
            "text/plain": [
              "[<tensorflow.python.keras.layers.convolutional.Conv2D at 0x7f0dc9e06048>,\n",
              " <tensorflow.python.keras.layers.pooling.MaxPooling2D at 0x7f0dd4acdba8>,\n",
              " <tensorflow.python.keras.layers.core.Flatten at 0x7f0dc906f0b8>,\n",
              " <tensorflow.python.keras.layers.core.Dense at 0x7f0dc906fbe0>,\n",
              " <tensorflow.python.keras.layers.core.Dense at 0x7f0dd4ac8320>]"
            ]
          },
          "metadata": {
            "tags": []
          },
          "execution_count": 106
        }
      ]
    }
  ]
}